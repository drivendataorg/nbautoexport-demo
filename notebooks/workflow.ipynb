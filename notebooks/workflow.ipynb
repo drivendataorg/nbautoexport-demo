{
 "cells": [
  {
   "cell_type": "code",
   "execution_count": 1,
   "metadata": {},
   "outputs": [],
   "source": [
    "class Workflow:\n",
    "    def __init__(self, participants, steps):\n",
    "        self.participants = participants\n",
    "        self.steps = steps\n",
    "        \n",
    "    def count_participants(self):\n",
    "        return len(self.participants)"
   ]
  },
  {
   "cell_type": "code",
   "execution_count": 2,
   "metadata": {},
   "outputs": [],
   "source": [
    "workflow = Workflow(\n",
    "    participants = [\n",
    "        \"Boromir\",\n",
    "        \"Frodo\",\n",
    "        \"Gandalf\",\n",
    "        \"Aragorn\",\n",
    "        \"Legolas\",\n",
    "        \"Gimli\",\n",
    "    ],\n",
    "    steps = [\n",
    "        \"go_to_gondor\",\n",
    "        \"walk_into_mordor\",\n",
    "        \"go_to_mount_doom\",\n",
    "        \"cast_ring_back_into_the_fiery_chasm_from_whence_it_came\"\n",
    "    ]\n",
    ")"
   ]
  },
  {
   "cell_type": "code",
   "execution_count": 3,
   "metadata": {},
   "outputs": [
    {
     "data": {
      "text/plain": [
       "6"
      ]
     },
     "execution_count": 3,
     "metadata": {},
     "output_type": "execute_result"
    }
   ],
   "source": [
    "workflow.count_participants()"
   ]
  },
  {
   "cell_type": "code",
   "execution_count": null,
   "metadata": {},
   "outputs": [],
   "source": []
  }
 ],
 "metadata": {
  "kernelspec": {
   "display_name": "Python 3",
   "language": "python",
   "name": "python3"
  },
  "language_info": {
   "codemirror_mode": {
    "name": "ipython",
    "version": 3
   },
   "file_extension": ".py",
   "mimetype": "text/x-python",
   "name": "python",
   "nbconvert_exporter": "python",
   "pygments_lexer": "ipython3",
   "version": "3.8.6"
  }
 },
 "nbformat": 4,
 "nbformat_minor": 4
}
